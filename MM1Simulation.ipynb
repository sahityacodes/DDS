{
 "cells": [
  {
   "cell_type": "code",
   "execution_count": 2,
   "metadata": {},
   "outputs": [],
   "source": [
    "import MM1Simulation as mm1\n",
    "import matplotlib.pyplot as plt"
   ]
  },
  {
   "cell_type": "code",
   "execution_count": 4,
   "metadata": {},
   "outputs": [
    {
     "name": "stdout",
     "output_type": "stream",
     "text": [
      "Customer Number 1\n",
      "Customer Wait Time 0.0 \n",
      "Customer Arrived At : 0.5736740255086396\n",
      "Service Time : 0.873161549578294 \n",
      "\n",
      "Customer Number 2\n",
      "Customer Wait Time 0.8228349588816242 \n",
      "Customer Arrived At : 1.4468355750869335\n",
      "Service Time : 0.40152569141401134 \n",
      "\n",
      "Customer Number 3\n",
      "Customer Wait Time 0.0 \n",
      "Customer Arrived At : 1.993626567752562\n",
      "Service Time : 2.466193257170542 \n",
      "\n",
      "Customer Number 4\n",
      "Customer Wait Time 2.2651210230414764 \n",
      "Customer Arrived At : 4.459819824923104\n",
      "Service Time : 0.27970514256722734 \n",
      "\n",
      "Customer Number 5\n",
      "Customer Wait Time 1.4509517083475911 \n",
      "Customer Arrived At : 4.739524967490331\n",
      "Service Time : 0.10240950633289277 \n",
      "\n",
      "Customer Number 6\n",
      "Customer Wait Time 0.34442654563160247 \n",
      "Customer Arrived At : 4.8419344738232235\n",
      "Service Time : 0.10335116168704861 \n",
      "\n",
      "Customer Number 7\n",
      "Customer Wait Time 0.0 \n",
      "Customer Arrived At : 5.419355100026604\n",
      "Service Time : 0.17374473817493014 \n",
      "\n",
      "Customer Number 8\n",
      "Customer Wait Time 0.08763582734114461 \n",
      "Customer Arrived At : 5.5930998382015344\n",
      "Service Time : 0.3634239549254477 \n",
      "\n",
      "Customer Number 9\n",
      "Customer Wait Time 0.0 \n",
      "Customer Arrived At : 8.968419289424656\n",
      "Service Time : 1.8223968504612185 \n",
      "\n",
      "Customer Number 10\n",
      "Customer Wait Time 1.732978417341732 \n",
      "Customer Arrived At : 10.790816139885875\n",
      "Service Time : 0.1287590922192228 \n",
      "\n",
      "Customer Number 11\n",
      "Customer Wait Time 0.8281205198630701 \n",
      "Customer Arrived At : 10.919575232105098\n",
      "Service Time : 0.25936572239668226 \n",
      "\n",
      "Service time of each customer in  [0.873161549578294, 0.40152569141401134, 2.466193257170542, 0.27970514256722734, 0.10240950633289277, 0.10335116168704861, 0.17374473817493014, 0.3634239549254477, 1.8223968504612185, 0.1287590922192228, 0.25936572239668226]\n",
      "\n",
      "Summary results:\n",
      "\n",
      "Number of customers:  11\n",
      "Mean Service Time:  0.6340033333570471\n",
      "Mean Wait:  0.6847335454952946\n",
      "Mean Time in System:  1.3187368788523417\n"
     ]
    }
   ],
   "source": [
    "Customers = mm1.Simulation(1,2,10)\n",
    "Waits = [a.wait for a in Customers]\n",
    "\n",
    "Mean_Wait = sum(Waits)/len(Waits)\n",
    "Total_Times = [a.wait+a.service_time for a in Customers]\n",
    "Mean_Time = sum(Total_Times)/len(Total_Times)\n",
    "Service_Times = [a.service_time for a in Customers]\n",
    "Mean_Service_Time = sum(Service_Times)/len(Service_Times)\n",
    "\n",
    "print(\"Service time of each customer \", [a.service_time for a in Customers])\n",
    "print(\"\")\n",
    "print(\"Summary results:\")\n",
    "\n",
    "print(\"\")\n",
    "print(\"Number of customers: \", len(Customers))\n",
    "print(\"Mean Service Time: \", Mean_Service_Time)\n",
    "print(\"Mean Wait: \", Mean_Wait)\n",
    "print(\"Mean Time in System: \", Mean_Time)\n"
   ]
  },
  {
   "cell_type": "code",
   "execution_count": null,
   "metadata": {},
   "outputs": [],
   "source": []
  }
 ],
 "metadata": {
  "kernelspec": {
   "display_name": "Python 3",
   "language": "python",
   "name": "python3"
  },
  "language_info": {
   "codemirror_mode": {
    "name": "ipython",
    "version": 3
   },
   "file_extension": ".py",
   "mimetype": "text/x-python",
   "name": "python",
   "nbconvert_exporter": "python",
   "pygments_lexer": "ipython3",
   "version": "3.8.5"
  }
 },
 "nbformat": 4,
 "nbformat_minor": 4
}
