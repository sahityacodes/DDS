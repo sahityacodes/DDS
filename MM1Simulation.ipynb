{
 "cells": [
  {
   "cell_type": "code",
   "execution_count": 6,
   "metadata": {},
   "outputs": [],
   "source": [
    "import Simulation1"
   ]
  },
  {
   "cell_type": "code",
   "execution_count": 7,
   "metadata": {},
   "outputs": [
    {
     "name": "stdout",
     "output_type": "stream",
     "text": [
      "Customer Number 1\n",
      "Customer Arrived At :  0.2565400265891271 Service Time :  0.6047824982507002\n",
      "Customer Number 2\n",
      "Customer Arrived At :  2.6088872209955407 Service Time :  0.3193810800267005\n",
      "Customer Number 3\n",
      "Customer Arrived At :  2.928268301022241 Service Time :  0.18660428534996384\n",
      "Customer Number 4\n",
      "Customer Arrived At :  3.1148725863722047 Service Time :  0.16263391165496188\n",
      "Customer Number 5\n",
      "Customer Arrived At :  3.2810878280072293 Service Time :  0.21789799679275157\n",
      "Customer Number 6\n",
      "Customer Arrived At :  4.436936871889376 Service Time :  0.7361894614352806\n",
      "Customer Number 7\n",
      "Customer Arrived At :  5.173126333324657 Service Time :  0.08738083473172419\n",
      "Customer Number 8\n",
      "Customer Arrived At :  6.859464538619404 Service Time :  2.0416630118732426\n",
      "Customer Number 9\n",
      "Customer Arrived At :  11.164739961946657 Service Time :  0.6505554363678134\n",
      "\n",
      "Summary results:\n",
      "\n",
      "Number of customers:  9\n",
      "Mean Service Time:  0.5563431684981266\n",
      "Mean Wait:  0.1316749690034466\n",
      "Mean Time in System:  0.6880181375015731\n",
      "Utilisation:  0.44847336646881614\n",
      "\n"
     ]
    }
   ],
   "source": [
    "Simulation1.Simulation(1,2,10)"
   ]
  },
  {
   "cell_type": "code",
   "execution_count": null,
   "metadata": {},
   "outputs": [],
   "source": []
  },
  {
   "cell_type": "code",
   "execution_count": null,
   "metadata": {},
   "outputs": [],
   "source": []
  },
  {
   "cell_type": "code",
   "execution_count": null,
   "metadata": {},
   "outputs": [],
   "source": []
  }
 ],
 "metadata": {
  "kernelspec": {
   "display_name": "Python 3",
   "language": "python",
   "name": "python3"
  },
  "language_info": {
   "codemirror_mode": {
    "name": "ipython",
    "version": 3
   },
   "file_extension": ".py",
   "mimetype": "text/x-python",
   "name": "python",
   "nbconvert_exporter": "python",
   "pygments_lexer": "ipython3",
   "version": "3.8.5"
  }
 },
 "nbformat": 4,
 "nbformat_minor": 4
}
