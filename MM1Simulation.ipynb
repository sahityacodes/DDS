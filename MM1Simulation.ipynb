{
 "cells": [
  {
   "cell_type": "code",
   "execution_count": 6,
   "metadata": {},
   "outputs": [],
   "source": [
    "import MM1Simulation as mm1\n",
    "import matplotlib.pyplot as plt"
   ]
  },
  {
   "cell_type": "code",
   "execution_count": 5,
   "metadata": {},
   "outputs": [
    {
     "name": "stdout",
     "output_type": "stream",
     "text": [
      "Customer Number 1\n",
      "Customer Wait Time 0.00 minutes\n",
      "Customer Arrived At : 0:54:55.516676 o'clock\n",
      "Service Time : 27.12 minutes \n",
      "\n",
      "Customer Number 2\n",
      "Customer Wait Time 0.00 minutes\n",
      "Customer Arrived At : 1:23:34.122623 o'clock\n",
      "Service Time : 10.86 minutes \n",
      "\n",
      "Customer Number 3\n",
      "Customer Wait Time 0.00 minutes\n",
      "Customer Arrived At : 2:03:35.509929 o'clock\n",
      "Service Time : 49.56 minutes \n",
      "\n",
      "Customer Number 4\n",
      "Customer Wait Time 0.00 minutes\n",
      "Customer Arrived At : 3:28:17.441577 o'clock\n",
      "Service Time : 33.42 minutes \n",
      "\n",
      "Customer Number 5\n",
      "Customer Wait Time 0.00 minutes\n",
      "Customer Arrived At : 4:46:20.933083 o'clock\n",
      "Service Time : 69.40 minutes \n",
      "\n",
      "Customer Number 6\n",
      "Customer Wait Time 0.00 minutes\n",
      "Customer Arrived At : 7:49:51.234028 o'clock\n",
      "Service Time : 1.72 minutes \n",
      "\n",
      " [27.116268328882562, 10.862446459350409, 49.56331714923613, 33.4218346157126, 69.3984270849368, 1.7159028473257472]\n",
      "\n",
      "Summary results:\n",
      "\n",
      "Number of customers:  6\n",
      "Mean Service Time:  32.01303274757404\n",
      "Mean Wait:  0.0\n",
      "Mean Time in System:  32.01303274757404\n"
     ]
    }
   ],
   "source": [
    "Customers = mm1.Simulation(1,2,300)\n",
    "Waits = [a.wait for a in Customers]\n",
    "\n",
    "Mean_Wait = sum(Waits)/len(Waits)\n",
    "Total_Times = [a.wait+a.service_time for a in Customers]\n",
    "Mean_Time = sum(Total_Times)/len(Total_Times)\n",
    "Service_Times = [a.service_time for a in Customers]\n",
    "Mean_Service_Time = sum(Service_Times)/len(Service_Times)\n",
    "\n",
    "print(\"\", [a.service_time for a in Customers])\n",
    "print(\"\")\n",
    "print(\"Summary results:\")\n",
    "\n",
    "print(\"\")\n",
    "print(\"Number of customers: \", len(Customers))\n",
    "print(\"Mean Service Time: \", Mean_Service_Time)\n",
    "print(\"Mean Wait: \", Mean_Wait)\n",
    "print(\"Mean Time in System: \", Mean_Time)\n",
    "\n",
    "plt.plot(t, d, 'bs')\n",
    "plt.show()"
   ]
  },
  {
   "cell_type": "code",
   "execution_count": null,
   "metadata": {},
   "outputs": [],
   "source": []
  }
 ],
 "metadata": {
  "kernelspec": {
   "display_name": "Python 3",
   "language": "python",
   "name": "python3"
  },
  "language_info": {
   "codemirror_mode": {
    "name": "ipython",
    "version": 3
   },
   "file_extension": ".py",
   "mimetype": "text/x-python",
   "name": "python",
   "nbconvert_exporter": "python",
   "pygments_lexer": "ipython3",
   "version": "3.8.5"
  }
 },
 "nbformat": 4,
 "nbformat_minor": 4
}
